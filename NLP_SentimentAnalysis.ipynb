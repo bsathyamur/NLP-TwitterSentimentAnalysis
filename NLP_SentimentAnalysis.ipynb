{
 "cells": [
  {
   "cell_type": "markdown",
   "metadata": {
    "colab_type": "text",
    "id": "VwK5-9FIB-lu"
   },
   "source": [
    "# Natural Language Processing - US Airline Twitter Sentiment Analysis"
   ]
  },
  {
   "cell_type": "markdown",
   "metadata": {
    "colab_type": "text",
    "id": "X1kiO9kACE6s"
   },
   "source": [
    "## Importing the libraries"
   ]
  },
  {
   "cell_type": "code",
   "execution_count": 220,
   "metadata": {
    "colab": {},
    "colab_type": "code",
    "id": "7QG7sxmoCIvN"
   },
   "outputs": [],
   "source": [
    "import numpy as np\n",
    "import matplotlib.pyplot as plt\n",
    "import pandas as pd\n",
    "import tensorflow as tf"
   ]
  },
  {
   "cell_type": "markdown",
   "metadata": {
    "colab_type": "text",
    "id": "wTfaCIzdCLPA"
   },
   "source": [
    "## Importing the dataset"
   ]
  },
  {
   "cell_type": "code",
   "execution_count": 221,
   "metadata": {
    "colab": {},
    "colab_type": "code",
    "id": "UCK6vQ5QCQJe"
   },
   "outputs": [],
   "source": [
    "dataset = pd.read_csv('Tweets_usairline.csv')"
   ]
  },
  {
   "cell_type": "markdown",
   "metadata": {
    "colab_type": "text",
    "id": "Qekztq71CixT"
   },
   "source": [
    "## Cleaning the texts"
   ]
  },
  {
   "cell_type": "code",
   "execution_count": 222,
   "metadata": {
    "colab": {
     "base_uri": "https://localhost:8080/",
     "height": 51
    },
    "colab_type": "code",
    "id": "8u_yXh9dCmEE",
    "outputId": "fd155584-cdc1-499b-a5e5-b6b72862cfb5"
   },
   "outputs": [
    {
     "name": "stderr",
     "output_type": "stream",
     "text": [
      "[nltk_data] Downloading package stopwords to\n",
      "[nltk_data]     C:\\Users\\savit\\AppData\\Roaming\\nltk_data...\n",
      "[nltk_data]   Package stopwords is already up-to-date!\n"
     ]
    }
   ],
   "source": [
    "import re\n",
    "import nltk\n",
    "nltk.download('stopwords')\n",
    "from nltk.corpus import stopwords\n",
    "from nltk.stem import WordNetLemmatizer\n",
    "corpus = []\n",
    "n = len(dataset['text'])\n",
    "\n",
    "for i in range(0, n):\n",
    "    review = re.sub('[^a-zA-Z]', ' ', dataset['text'][i])\n",
    "    review = review.lower()\n",
    "    review = review.split()\n",
    "    lemm = WordNetLemmatizer()\n",
    "    all_stopwords = stopwords.words('english')\n",
    "    all_stopwords.remove('not')\n",
    "    review = [lemm.lemmatize(word) for word in review if not word in set(all_stopwords)]\n",
    "    review = ' '.join(review)\n",
    "    corpus.append(review)"
   ]
  },
  {
   "cell_type": "markdown",
   "metadata": {
    "colab_type": "text",
    "id": "CLqmAkANCp1-"
   },
   "source": [
    "## Creating the Bag of Words model"
   ]
  },
  {
   "cell_type": "code",
   "execution_count": 223,
   "metadata": {},
   "outputs": [],
   "source": [
    "cv = CountVectorizer()\n",
    "X = cv.fit_transform(corpus).toarray()\n",
    "y = dataset[\"airline_sentiment\"].values"
   ]
  },
  {
   "cell_type": "markdown",
   "metadata": {
    "colab_type": "text",
    "id": "DH_VjgPzC2cd"
   },
   "source": [
    "## Splitting the dataset into the Training set and Test set"
   ]
  },
  {
   "cell_type": "code",
   "execution_count": 224,
   "metadata": {
    "colab": {},
    "colab_type": "code",
    "id": "qQXYM5VzDDDI"
   },
   "outputs": [],
   "source": [
    "from sklearn.model_selection import train_test_split\n",
    "X_train, X_test, y_train, y_test = train_test_split(X, y, test_size = 0.20, random_state = 0)"
   ]
  },
  {
   "cell_type": "markdown",
   "metadata": {
    "colab_type": "text",
    "id": "VkIq23vEDIPt"
   },
   "source": [
    "## Training the Naive Bayes model on the Training set"
   ]
  },
  {
   "cell_type": "code",
   "execution_count": 225,
   "metadata": {
    "colab": {
     "base_uri": "https://localhost:8080/",
     "height": 34
    },
    "colab_type": "code",
    "id": "DS9oiDXXDRdI",
    "outputId": "742b7f9e-7dfd-45a2-8b75-d70aceeac506"
   },
   "outputs": [
    {
     "data": {
      "text/plain": [
       "GaussianNB(priors=None, var_smoothing=1e-09)"
      ]
     },
     "execution_count": 225,
     "metadata": {},
     "output_type": "execute_result"
    }
   ],
   "source": [
    "from sklearn.naive_bayes import GaussianNB\n",
    "classifier = GaussianNB()\n",
    "classifier.fit(X_train, y_train)"
   ]
  },
  {
   "cell_type": "markdown",
   "metadata": {
    "colab_type": "text",
    "id": "1JaRM7zXDWUy"
   },
   "source": [
    "## Predicting the Test set results"
   ]
  },
  {
   "cell_type": "code",
   "execution_count": 226,
   "metadata": {
    "colab": {
     "base_uri": "https://localhost:8080/",
     "height": 1000
    },
    "colab_type": "code",
    "id": "Iif0CVhFDaMp",
    "outputId": "d4f8ad90-4cf1-4154-fcb6-c003af2ca3db"
   },
   "outputs": [
    {
     "name": "stdout",
     "output_type": "stream",
     "text": [
      "['negative' 'negative' 'negative' ... 'negative' 'positive' 'negative'] ['negative' 'negative' 'negative' ... 'negative' 'negative' 'negative']\n"
     ]
    }
   ],
   "source": [
    "y_pred = classifier.predict(X_test)\n",
    "print(y_pred,y_test)"
   ]
  },
  {
   "cell_type": "markdown",
   "metadata": {
    "colab_type": "text",
    "id": "xoMltea5Dir1"
   },
   "source": [
    "## Making the Confusion Matrix"
   ]
  },
  {
   "cell_type": "code",
   "execution_count": 227,
   "metadata": {
    "colab": {
     "base_uri": "https://localhost:8080/",
     "height": 68
    },
    "colab_type": "code",
    "id": "Xj9IU6MxDnvo",
    "outputId": "4f917b26-80c8-445e-ee6b-8f0c37ab2aec"
   },
   "outputs": [
    {
     "name": "stdout",
     "output_type": "stream",
     "text": [
      "[[873 372 625]\n",
      " [120 210 284]\n",
      " [ 81  58 305]]\n"
     ]
    },
    {
     "data": {
      "text/plain": [
       "0.47404371584699456"
      ]
     },
     "execution_count": 227,
     "metadata": {},
     "output_type": "execute_result"
    }
   ],
   "source": [
    "from sklearn.metrics import confusion_matrix, accuracy_score\n",
    "cm = confusion_matrix(y_test, y_pred)\n",
    "print(cm)\n",
    "accuracy_score(y_test, y_pred)"
   ]
  },
  {
   "cell_type": "markdown",
   "metadata": {},
   "source": [
    "The accuracy is 47% with naive bayes model which is very low. Lets try to predict with some reviews."
   ]
  },
  {
   "cell_type": "markdown",
   "metadata": {
    "colab_type": "text",
    "id": "NZcOJH_x9GSV"
   },
   "source": [
    "## Predicting if a single review is positive or neutral or negative"
   ]
  },
  {
   "cell_type": "markdown",
   "metadata": {
    "colab_type": "text",
    "id": "4CiVD7lB-G4E"
   },
   "source": [
    "### Positive review"
   ]
  },
  {
   "cell_type": "markdown",
   "metadata": {
    "colab_type": "text",
    "id": "P1o_pwhj9f3x"
   },
   "source": [
    "Use our model to predict if the following review:\n",
    "\n",
    "\"American airlines is the best airline in the US\"\n",
    "\n",
    "is positive or negative or neutral."
   ]
  },
  {
   "cell_type": "code",
   "execution_count": 228,
   "metadata": {
    "colab": {
     "base_uri": "https://localhost:8080/",
     "height": 34
    },
    "colab_type": "code",
    "id": "4-jZEzWD49su",
    "outputId": "6179cc7c-173c-437b-fc99-2841d457674e"
   },
   "outputs": [
    {
     "name": "stdout",
     "output_type": "stream",
     "text": [
      "['positive']\n"
     ]
    }
   ],
   "source": [
    "new_review = 'American airlines is the best airline in the US'\n",
    "new_review = re.sub('[^a-zA-Z]', ' ', new_review)\n",
    "new_review = new_review.lower()\n",
    "new_review = new_review.split()\n",
    "lemm = WordNetLemmatizer()\n",
    "all_stopwords = stopwords.words('english')\n",
    "all_stopwords.remove('not')\n",
    "new_review = [lemm.lemmatize(word) for word in new_review if not word in set(all_stopwords)]\n",
    "new_review = ' '.join(new_review)\n",
    "new_corpus = [new_review]\n",
    "new_X_test = cv.transform(new_corpus).toarray()\n",
    "new_y_pred = classifier.predict(new_X_test)\n",
    "print(new_y_pred)"
   ]
  },
  {
   "cell_type": "markdown",
   "metadata": {
    "colab_type": "text",
    "id": "Rkorcoxm93kP"
   },
   "source": [
    "The review was correctly predicted as positive by our model."
   ]
  },
  {
   "cell_type": "markdown",
   "metadata": {
    "colab_type": "text",
    "id": "9qztXT-i-K1j"
   },
   "source": [
    "### Neutral review"
   ]
  },
  {
   "cell_type": "markdown",
   "metadata": {
    "colab_type": "text",
    "id": "cesW_qiH-CO0"
   },
   "source": [
    "Use our model to predict if the following review:\n",
    "\n",
    "\"the southwest airlines fly to dallas everyday\"\n",
    "\n",
    "is positive or negative or neutral."
   ]
  },
  {
   "cell_type": "code",
   "execution_count": 229,
   "metadata": {
    "colab": {
     "base_uri": "https://localhost:8080/",
     "height": 34
    },
    "colab_type": "code",
    "id": "ySAblyR98J2s",
    "outputId": "62abbe74-cfda-48f5-bf9f-ed26ba8d21ab"
   },
   "outputs": [
    {
     "name": "stdout",
     "output_type": "stream",
     "text": [
      "['positive']\n"
     ]
    }
   ],
   "source": [
    "new_review = 'the southwest airlines fly to dallas everyday'\n",
    "new_review = re.sub('[^a-zA-Z]', ' ', new_review)\n",
    "new_review = new_review.lower()\n",
    "new_review = new_review.split()\n",
    "lemm = WordNetLemmatizer()\n",
    "all_stopwords = stopwords.words('english')\n",
    "all_stopwords.remove('not')\n",
    "new_review = [lemm.lemmatize(word) for word in new_review if not word in set(all_stopwords)]\n",
    "new_review = ' '.join(new_review)\n",
    "new_corpus = [new_review]\n",
    "new_X_test = cv.transform(new_corpus).toarray()\n",
    "new_y_pred = classifier.predict(new_X_test)\n",
    "print(new_y_pred)"
   ]
  },
  {
   "cell_type": "markdown",
   "metadata": {
    "colab_type": "text",
    "id": "d72teliY-PUQ"
   },
   "source": [
    "The review was predicted incorrectly as positive instead of neutral."
   ]
  },
  {
   "cell_type": "markdown",
   "metadata": {},
   "source": [
    "### Negative review"
   ]
  },
  {
   "cell_type": "markdown",
   "metadata": {},
   "source": [
    "Use our model to predict if the following review:\n",
    "\n",
    "\"I never fly in american airlines since its not good\"\n",
    "\n",
    "is positive or negative or neutral."
   ]
  },
  {
   "cell_type": "code",
   "execution_count": 230,
   "metadata": {},
   "outputs": [
    {
     "name": "stdout",
     "output_type": "stream",
     "text": [
      "['positive']\n"
     ]
    }
   ],
   "source": [
    "new_review = 'I never fly in american airlines since its not good'\n",
    "new_review = re.sub('[^a-zA-Z]', ' ', new_review)\n",
    "new_review = new_review.lower()\n",
    "new_review = new_review.split()\n",
    "lemm = WordNetLemmatizer()\n",
    "all_stopwords = stopwords.words('english')\n",
    "all_stopwords.remove('not')\n",
    "new_review = [lemm.lemmatize(word) for word in new_review if not word in set(all_stopwords)]\n",
    "new_review = ' '.join(new_review)\n",
    "new_corpus = [new_review]\n",
    "new_X_test = cv.transform(new_corpus).toarray()\n",
    "new_y_pred = classifier.predict(new_X_test)\n",
    "print(new_y_pred)"
   ]
  },
  {
   "cell_type": "markdown",
   "metadata": {},
   "source": [
    "The review was predicted incorrectly as positive instead of negative."
   ]
  },
  {
   "cell_type": "markdown",
   "metadata": {},
   "source": [
    "## Implementing the same using Deep Learning ANN model"
   ]
  },
  {
   "cell_type": "markdown",
   "metadata": {},
   "source": [
    "### Performing one hot coding for the target variable"
   ]
  },
  {
   "cell_type": "code",
   "execution_count": 203,
   "metadata": {},
   "outputs": [
    {
     "name": "stdout",
     "output_type": "stream",
     "text": [
      "[[0. 1. 0.]\n",
      " [0. 0. 1.]\n",
      " [0. 1. 0.]\n",
      " ...\n",
      " [0. 1. 0.]\n",
      " [1. 0. 0.]\n",
      " [0. 1. 0.]]\n"
     ]
    }
   ],
   "source": [
    "from sklearn.preprocessing import LabelEncoder\n",
    "from keras.utils import np_utils\n",
    "\n",
    "# encode class values as integers\n",
    "encoder = LabelEncoder()\n",
    "encoder.fit(y)\n",
    "encoded_y = encoder.transform(y)\n",
    "# convert integers to dummy variables (i.e. one hot encoded)\n",
    "dummy_y = np_utils.to_categorical(encoded_y)\n",
    "print(dummy_y)"
   ]
  },
  {
   "cell_type": "markdown",
   "metadata": {},
   "source": [
    "### Splitting the train and test sets"
   ]
  },
  {
   "cell_type": "code",
   "execution_count": 204,
   "metadata": {},
   "outputs": [],
   "source": [
    "from sklearn.model_selection import train_test_split\n",
    "X_train, X_test, y_train, y_test = train_test_split(X, dummy_y, test_size = 0.20, random_state = 0)"
   ]
  },
  {
   "cell_type": "markdown",
   "metadata": {},
   "source": [
    "### Initialize the ANN model"
   ]
  },
  {
   "cell_type": "code",
   "execution_count": 205,
   "metadata": {},
   "outputs": [],
   "source": [
    "annNLP = tf.keras.models.Sequential()"
   ]
  },
  {
   "cell_type": "markdown",
   "metadata": {},
   "source": [
    "### Add the first input layer with input dimensions as 12573 and input neurons = 200"
   ]
  },
  {
   "cell_type": "code",
   "execution_count": 99,
   "metadata": {},
   "outputs": [],
   "source": [
    "annNLP.add(tf.keras.layers.Dense(units=200, input_dim = 12573, activation='relu'))"
   ]
  },
  {
   "cell_type": "markdown",
   "metadata": {},
   "source": [
    "### Add the second hidden layer"
   ]
  },
  {
   "cell_type": "code",
   "execution_count": 207,
   "metadata": {},
   "outputs": [],
   "source": [
    "annNLP.add(tf.keras.layers.Dense(units=200, activation='relu'))"
   ]
  },
  {
   "cell_type": "markdown",
   "metadata": {},
   "source": [
    "## Add the output layer"
   ]
  },
  {
   "cell_type": "code",
   "execution_count": 208,
   "metadata": {},
   "outputs": [],
   "source": [
    "annNLP.add(tf.keras.layers.Dense(units=3, activation='softmax'))"
   ]
  },
  {
   "cell_type": "markdown",
   "metadata": {},
   "source": [
    "## Compile the ANN model"
   ]
  },
  {
   "cell_type": "code",
   "execution_count": 210,
   "metadata": {},
   "outputs": [],
   "source": [
    "annNLP.compile(optimizer = 'adam', loss = 'categorical_crossentropy', metrics = ['accuracy'])"
   ]
  },
  {
   "cell_type": "markdown",
   "metadata": {},
   "source": [
    "## Train the ANN model"
   ]
  },
  {
   "cell_type": "code",
   "execution_count": 211,
   "metadata": {},
   "outputs": [
    {
     "name": "stdout",
     "output_type": "stream",
     "text": [
      "Train on 11712 samples\n",
      "Epoch 1/100\n",
      "11712/11712 [==============================] - 6s 534us/sample - loss: 0.6042 - accuracy: 0.7511\n",
      "Epoch 2/100\n",
      "11712/11712 [==============================] - 6s 495us/sample - loss: 0.3268 - accuracy: 0.8751\n",
      "Epoch 3/100\n",
      "11712/11712 [==============================] - 6s 479us/sample - loss: 0.2013 - accuracy: 0.9301\n",
      "Epoch 4/100\n",
      "11712/11712 [==============================] - 6s 485us/sample - loss: 0.1297 - accuracy: 0.9559\n",
      "Epoch 5/100\n",
      "11712/11712 [==============================] - 6s 488us/sample - loss: 0.0893 - accuracy: 0.9728\n",
      "Epoch 6/100\n",
      "11712/11712 [==============================] - 6s 517us/sample - loss: 0.0656 - accuracy: 0.9804\n",
      "Epoch 7/100\n",
      "11712/11712 [==============================] - 6s 498us/sample - loss: 0.0509 - accuracy: 0.9851\n",
      "Epoch 8/100\n",
      "11712/11712 [==============================] - 6s 498us/sample - loss: 0.0423 - accuracy: 0.9886 - los\n",
      "Epoch 9/100\n",
      "11712/11712 [==============================] - 6s 499us/sample - loss: 0.0357 - accuracy: 0.9902\n",
      "Epoch 10/100\n",
      "11712/11712 [==============================] - 6s 496us/sample - loss: 0.0311 - accuracy: 0.9912\n",
      "Epoch 11/100\n",
      "11712/11712 [==============================] - 6s 504us/sample - loss: 0.0299 - accuracy: 0.9917\n",
      "Epoch 12/100\n",
      "11712/11712 [==============================] - 6s 500us/sample - loss: 0.0255 - accuracy: 0.9926\n",
      "Epoch 13/100\n",
      "11712/11712 [==============================] - 6s 505us/sample - loss: 0.0263 - accuracy: 0.9923\n",
      "Epoch 14/100\n",
      "11712/11712 [==============================] - 6s 511us/sample - loss: 0.0222 - accuracy: 0.9939\n",
      "Epoch 15/100\n",
      "11712/11712 [==============================] - 6s 503us/sample - loss: 0.0213 - accuracy: 0.9938\n",
      "Epoch 16/100\n",
      "11712/11712 [==============================] - 6s 510us/sample - loss: 0.0210 - accuracy: 0.9937\n",
      "Epoch 17/100\n",
      "11712/11712 [==============================] - 6s 502us/sample - loss: 0.0222 - accuracy: 0.9933\n",
      "Epoch 18/100\n",
      "11712/11712 [==============================] - 6s 501us/sample - loss: 0.0196 - accuracy: 0.9942\n",
      "Epoch 19/100\n",
      "11712/11712 [==============================] - 6s 507us/sample - loss: 0.0191 - accuracy: 0.9945\n",
      "Epoch 20/100\n",
      "11712/11712 [==============================] - 6s 510us/sample - loss: 0.0180 - accuracy: 0.9948\n",
      "Epoch 21/100\n",
      "11712/11712 [==============================] - 6s 512us/sample - loss: 0.0185 - accuracy: 0.9940\n",
      "Epoch 22/100\n",
      "11712/11712 [==============================] - 6s 499us/sample - loss: 0.0183 - accuracy: 0.9944\n",
      "Epoch 23/100\n",
      "11712/11712 [==============================] - 6s 510us/sample - loss: 0.0176 - accuracy: 0.9942\n",
      "Epoch 24/100\n",
      "11712/11712 [==============================] - 6s 514us/sample - loss: 0.0159 - accuracy: 0.9948\n",
      "Epoch 25/100\n",
      "11712/11712 [==============================] - 6s 529us/sample - loss: 0.0180 - accuracy: 0.9945\n",
      "Epoch 26/100\n",
      "11712/11712 [==============================] - 6s 518us/sample - loss: 0.0164 - accuracy: 0.9945\n",
      "Epoch 27/100\n",
      "11712/11712 [==============================] - 6s 492us/sample - loss: 0.0163 - accuracy: 0.9944\n",
      "Epoch 28/100\n",
      "11712/11712 [==============================] - 6s 493us/sample - loss: 0.0161 - accuracy: 0.9949 - loss: 0.0\n",
      "Epoch 29/100\n",
      "11712/11712 [==============================] - 6s 503us/sample - loss: 0.0161 - accuracy: 0.9949\n",
      "Epoch 30/100\n",
      "11712/11712 [==============================] - 6s 508us/sample - loss: 0.0152 - accuracy: 0.9952\n",
      "Epoch 31/100\n",
      "11712/11712 [==============================] - 6s 508us/sample - loss: 0.0159 - accuracy: 0.9947\n",
      "Epoch 32/100\n",
      "11712/11712 [==============================] - 6s 500us/sample - loss: 0.0151 - accuracy: 0.9945\n",
      "Epoch 33/100\n",
      "11712/11712 [==============================] - 6s 490us/sample - loss: 0.0143 - accuracy: 0.9948\n",
      "Epoch 34/100\n",
      "11712/11712 [==============================] - 6s 499us/sample - loss: 0.0147 - accuracy: 0.9947\n",
      "Epoch 35/100\n",
      "11712/11712 [==============================] - 6s 513us/sample - loss: 0.0144 - accuracy: 0.9951\n",
      "Epoch 36/100\n",
      "11712/11712 [==============================] - 6s 523us/sample - loss: 0.0145 - accuracy: 0.9944\n",
      "Epoch 37/100\n",
      "11712/11712 [==============================] - 6s 504us/sample - loss: 0.0147 - accuracy: 0.9939\n",
      "Epoch 38/100\n",
      "11712/11712 [==============================] - 6s 533us/sample - loss: 0.0138 - accuracy: 0.9949\n",
      "Epoch 39/100\n",
      "11712/11712 [==============================] - 6s 522us/sample - loss: 0.0142 - accuracy: 0.9942\n",
      "Epoch 40/100\n",
      "11712/11712 [==============================] - 6s 493us/sample - loss: 0.0133 - accuracy: 0.9949\n",
      "Epoch 41/100\n",
      "11712/11712 [==============================] - 6s 502us/sample - loss: 0.0138 - accuracy: 0.9946 - l -\n",
      "Epoch 42/100\n",
      "11712/11712 [==============================] - 6s 527us/sample - loss: 0.0136 - accuracy: 0.9949 -\n",
      "Epoch 43/100\n",
      "11712/11712 [==============================] - 6s 520us/sample - loss: 0.0132 - accuracy: 0.9952\n",
      "Epoch 44/100\n",
      "11712/11712 [==============================] - 6s 507us/sample - loss: 0.0129 - accuracy: 0.9952\n",
      "Epoch 45/100\n",
      "11712/11712 [==============================] - 6s 524us/sample - loss: 0.0139 - accuracy: 0.9948\n",
      "Epoch 46/100\n",
      "11712/11712 [==============================] - 6s 512us/sample - loss: 0.0124 - accuracy: 0.9952\n",
      "Epoch 47/100\n",
      "11712/11712 [==============================] - 6s 522us/sample - loss: 0.0132 - accuracy: 0.9945\n",
      "Epoch 48/100\n",
      "11712/11712 [==============================] - 6s 487us/sample - loss: 0.0129 - accuracy: 0.9945\n",
      "Epoch 49/100\n",
      "11712/11712 [==============================] - 6s 488us/sample - loss: 0.0113 - accuracy: 0.9952\n",
      "Epoch 50/100\n",
      "11712/11712 [==============================] - 6s 496us/sample - loss: 0.0132 - accuracy: 0.9947\n",
      "Epoch 51/100\n",
      "11712/11712 [==============================] - 6s 500us/sample - loss: 0.0124 - accuracy: 0.9953\n",
      "Epoch 52/100\n",
      "11712/11712 [==============================] - 6s 490us/sample - loss: 0.0120 - accuracy: 0.9954\n",
      "Epoch 53/100\n",
      "11712/11712 [==============================] - 6s 526us/sample - loss: 0.0112 - accuracy: 0.9954\n",
      "Epoch 54/100\n",
      "11712/11712 [==============================] - 6s 526us/sample - loss: 0.0125 - accuracy: 0.9950\n",
      "Epoch 55/100\n",
      "11712/11712 [==============================] - 6s 525us/sample - loss: 0.0123 - accuracy: 0.9950\n",
      "Epoch 56/100\n",
      "11712/11712 [==============================] - 6s 516us/sample - loss: 0.0114 - accuracy: 0.9950\n",
      "Epoch 57/100\n",
      "11712/11712 [==============================] - 6s 527us/sample - loss: 0.0124 - accuracy: 0.9945\n",
      "Epoch 58/100\n",
      "11712/11712 [==============================] - 7s 582us/sample - loss: 0.0115 - accuracy: 0.9950\n",
      "Epoch 59/100\n",
      "11712/11712 [==============================] - 6s 524us/sample - loss: 0.0116 - accuracy: 0.9950\n",
      "Epoch 60/100\n",
      "11712/11712 [==============================] - 6s 511us/sample - loss: 0.0117 - accuracy: 0.9950\n",
      "Epoch 61/100\n",
      "11712/11712 [==============================] - 6s 516us/sample - loss: 0.0111 - accuracy: 0.9950\n",
      "Epoch 62/100\n",
      "11712/11712 [==============================] - 6s 501us/sample - loss: 0.0115 - accuracy: 0.9950\n",
      "Epoch 63/100\n",
      "11712/11712 [==============================] - 6s 488us/sample - loss: 0.0109 - accuracy: 0.9951\n",
      "Epoch 64/100\n",
      "11712/11712 [==============================] - 6s 487us/sample - loss: 0.0111 - accuracy: 0.9950\n",
      "Epoch 65/100\n",
      "11712/11712 [==============================] - 6s 506us/sample - loss: 0.0117 - accuracy: 0.9950\n",
      "Epoch 66/100\n",
      "11712/11712 [==============================] - 6s 507us/sample - loss: 0.0115 - accuracy: 0.9951\n",
      "Epoch 67/100\n",
      "11712/11712 [==============================] - 6s 505us/sample - loss: 0.0113 - accuracy: 0.9951\n",
      "Epoch 68/100\n",
      "11712/11712 [==============================] - 6s 492us/sample - loss: 0.0109 - accuracy: 0.9948\n",
      "Epoch 69/100\n",
      "11712/11712 [==============================] - 6s 499us/sample - loss: 0.0108 - accuracy: 0.9953\n",
      "Epoch 70/100\n",
      "11712/11712 [==============================] - 6s 500us/sample - loss: 0.0104 - accuracy: 0.9953\n",
      "Epoch 71/100\n",
      "11712/11712 [==============================] - 6s 503us/sample - loss: 0.0106 - accuracy: 0.9952\n",
      "Epoch 72/100\n",
      "11712/11712 [==============================] - 6s 499us/sample - loss: 0.0108 - accuracy: 0.9949\n",
      "Epoch 73/100\n",
      "11712/11712 [==============================] - 6s 497us/sample - loss: 0.0108 - accuracy: 0.9950\n",
      "Epoch 74/100\n"
     ]
    },
    {
     "name": "stdout",
     "output_type": "stream",
     "text": [
      "11712/11712 [==============================] - 6s 507us/sample - loss: 0.0106 - accuracy: 0.9946\n",
      "Epoch 75/100\n",
      "11712/11712 [==============================] - 6s 512us/sample - loss: 0.0107 - accuracy: 0.9951\n",
      "Epoch 76/100\n",
      "11712/11712 [==============================] - 6s 541us/sample - loss: 0.0106 - accuracy: 0.9948\n",
      "Epoch 77/100\n",
      "11712/11712 [==============================] - 6s 498us/sample - loss: 0.0101 - accuracy: 0.9956\n",
      "Epoch 78/100\n",
      "11712/11712 [==============================] - 6s 496us/sample - loss: 0.0105 - accuracy: 0.9948 - loss: 0.0104 - \n",
      "Epoch 79/100\n",
      "11712/11712 [==============================] - 6s 509us/sample - loss: 0.0106 - accuracy: 0.9948\n",
      "Epoch 80/100\n",
      "11712/11712 [==============================] - 6s 505us/sample - loss: 0.0107 - accuracy: 0.9949\n",
      "Epoch 81/100\n",
      "11712/11712 [==============================] - 6s 499us/sample - loss: 0.0102 - accuracy: 0.9950\n",
      "Epoch 82/100\n",
      "11712/11712 [==============================] - 6s 504us/sample - loss: 0.0104 - accuracy: 0.9948\n",
      "Epoch 83/100\n",
      "11712/11712 [==============================] - 6s 492us/sample - loss: 0.0101 - accuracy: 0.9954\n",
      "Epoch 84/100\n",
      "11712/11712 [==============================] - 6s 499us/sample - loss: 0.0101 - accuracy: 0.9952\n",
      "Epoch 85/100\n",
      "11712/11712 [==============================] - 6s 509us/sample - loss: 0.0100 - accuracy: 0.9951 - loss: 0.0101 - accuracy: 0.99\n",
      "Epoch 86/100\n",
      "11712/11712 [==============================] - 6s 493us/sample - loss: 0.0102 - accuracy: 0.9950\n",
      "Epoch 87/100\n",
      "11712/11712 [==============================] - 6s 481us/sample - loss: 0.0102 - accuracy: 0.9949\n",
      "Epoch 88/100\n",
      "11712/11712 [==============================] - 6s 480us/sample - loss: 0.0100 - accuracy: 0.9952\n",
      "Epoch 89/100\n",
      "11712/11712 [==============================] - 6s 481us/sample - loss: 0.0104 - accuracy: 0.9950\n",
      "Epoch 90/100\n",
      "11712/11712 [==============================] - 6s 486us/sample - loss: 0.0102 - accuracy: 0.9949\n",
      "Epoch 91/100\n",
      "11712/11712 [==============================] - 6s 482us/sample - loss: 0.0102 - accuracy: 0.9952\n",
      "Epoch 92/100\n",
      "11712/11712 [==============================] - 6s 482us/sample - loss: 0.0100 - accuracy: 0.9951\n",
      "Epoch 93/100\n",
      "11712/11712 [==============================] - 6s 480us/sample - loss: 0.0098 - accuracy: 0.9949\n",
      "Epoch 94/100\n",
      "11712/11712 [==============================] - 6s 480us/sample - loss: 0.0103 - accuracy: 0.9948\n",
      "Epoch 95/100\n",
      "11712/11712 [==============================] - 6s 479us/sample - loss: 0.0099 - accuracy: 0.9951\n",
      "Epoch 96/100\n",
      "11712/11712 [==============================] - 6s 480us/sample - loss: 0.0098 - accuracy: 0.9950\n",
      "Epoch 97/100\n",
      "11712/11712 [==============================] - 6s 480us/sample - loss: 0.0100 - accuracy: 0.9949\n",
      "Epoch 98/100\n",
      "11712/11712 [==============================] - 6s 481us/sample - loss: 0.0099 - accuracy: 0.9949\n",
      "Epoch 99/100\n",
      "11712/11712 [==============================] - 6s 480us/sample - loss: 0.0099 - accuracy: 0.9950\n",
      "Epoch 100/100\n",
      "11712/11712 [==============================] - 6s 486us/sample - loss: 0.0100 - accuracy: 0.9950\n"
     ]
    },
    {
     "data": {
      "text/plain": [
       "<tensorflow.python.keras.callbacks.History at 0x2d503387688>"
      ]
     },
     "execution_count": 211,
     "metadata": {},
     "output_type": "execute_result"
    }
   ],
   "source": [
    "annNLP.fit(X_train, y_train, batch_size = 32, epochs = 100)"
   ]
  },
  {
   "cell_type": "markdown",
   "metadata": {},
   "source": [
    "## Converting the predictions in test set to 1 D array"
   ]
  },
  {
   "cell_type": "code",
   "execution_count": 212,
   "metadata": {},
   "outputs": [
    {
     "name": "stdout",
     "output_type": "stream",
     "text": [
      "[[1570  224   76]\n",
      " [ 172  363   79]\n",
      " [  73   90  281]]\n",
      "Accuracy =  0.7561475409836066\n"
     ]
    }
   ],
   "source": [
    "from sklearn.metrics import confusion_matrix, accuracy_score\n",
    "y_pred = annNLP.predict(X_test)\n",
    "\n",
    "y_pred = y_pred.round()\n",
    "\n",
    "\n",
    "y_pred_1d = []\n",
    "y_test_1d = []\n",
    "\n",
    "for x in y_pred:\n",
    "    if x[0] == 1:\n",
    "        y_pred_1d.append(\"negative\")\n",
    "    #elif x[1] == 1:\n",
    "    #    y_pred_1d.append(\"neutral\")\n",
    "    elif x[2] == 1:\n",
    "        y_pred_1d.append(\"positive\")\n",
    "    else:\n",
    "        y_pred_1d.append(\"neutral\")\n",
    "\n",
    "for x in y_test:\n",
    "    if x[0] == 1:\n",
    "        y_test_1d.append(\"negative\")\n",
    "    #elif x[1] == 1:\n",
    "    #    y_test_1d.append(\"neutral\")\n",
    "    elif x[2] == 1:\n",
    "        y_test_1d.append(\"positive\")\n",
    "    else:\n",
    "        y_test_1d.append(\"neutral\")        \n",
    "\n",
    "cm = confusion_matrix(y_test_1d, y_pred_1d)\n",
    "print(cm)\n",
    "x = accuracy_score(y_test_1d, y_pred_1d,normalize = False)\n",
    "print(\"Accuracy = \",x/len(y_pred_1d))"
   ]
  },
  {
   "cell_type": "markdown",
   "metadata": {},
   "source": [
    "The accuracy is 76% with naive bayes model which is better than naive bayes model. Lets try to predict with some reviews."
   ]
  },
  {
   "cell_type": "markdown",
   "metadata": {},
   "source": [
    "## Predicting if a single review is positive or neutral or negative"
   ]
  },
  {
   "cell_type": "markdown",
   "metadata": {},
   "source": [
    "### Positive review"
   ]
  },
  {
   "cell_type": "markdown",
   "metadata": {},
   "source": [
    "Use our ANN model to predict if the following review:\n",
    "\n",
    "\"American airlines is the best airline in the US\"\n",
    "\n",
    "is positive or negative or neutral."
   ]
  },
  {
   "cell_type": "code",
   "execution_count": 215,
   "metadata": {},
   "outputs": [
    {
     "name": "stdout",
     "output_type": "stream",
     "text": [
      "The sentiment of the review is Positive\n"
     ]
    }
   ],
   "source": [
    "new_review = 'American airlines is the best airline in the US'\n",
    "new_review = re.sub('[^a-zA-Z]', ' ', new_review)\n",
    "new_review = new_review.lower()\n",
    "new_review = new_review.split()\n",
    "lemm = WordNetLemmatizer()\n",
    "all_stopwords = stopwords.words('english')\n",
    "all_stopwords.remove('not')\n",
    "new_review = [lemm.lemmatize(word) for word in new_review if not word in set(all_stopwords)]\n",
    "new_review = ' '.join(new_review)\n",
    "new_corpus = [new_review]\n",
    "new_X_test = cv.transform(new_corpus).toarray()\n",
    "new_y_pred = annNLP.predict(new_X_test)\n",
    "x  = new_y_pred.round()\n",
    "\n",
    "if x[0][0] == 1:\n",
    "    print(\"The sentiment of the review is Negative\")\n",
    "elif x[0][2] == 1:\n",
    "    print(\"The sentiment of the review is Positive\")\n",
    "else:\n",
    "    print(\"The sentiment of the review is Neutral\")"
   ]
  },
  {
   "cell_type": "markdown",
   "metadata": {},
   "source": [
    "The review was correctly predicted as positive by ANN model."
   ]
  },
  {
   "cell_type": "markdown",
   "metadata": {},
   "source": [
    "### Neutral review"
   ]
  },
  {
   "cell_type": "markdown",
   "metadata": {},
   "source": [
    "Use our model to predict if the following review:\n",
    "\n",
    "\"the southwest airlines fly to dallas everyday\"\n",
    "\n",
    "is positive or negative or neutral."
   ]
  },
  {
   "cell_type": "code",
   "execution_count": 217,
   "metadata": {},
   "outputs": [
    {
     "name": "stdout",
     "output_type": "stream",
     "text": [
      "The sentiment of the review is Neutral\n"
     ]
    }
   ],
   "source": [
    "new_review = 'the southwest airlines fly to dallas everyday'\n",
    "new_review = re.sub('[^a-zA-Z]', ' ', new_review)\n",
    "new_review = new_review.lower()\n",
    "new_review = new_review.split()\n",
    "lemm = WordNetLemmatizer()\n",
    "all_stopwords = stopwords.words('english')\n",
    "all_stopwords.remove('not')\n",
    "new_review = [lemm.lemmatize(word) for word in new_review if not word in set(all_stopwords)]\n",
    "new_review = ' '.join(new_review)\n",
    "new_corpus = [new_review]\n",
    "new_X_test = cv.transform(new_corpus).toarray()\n",
    "new_y_pred = annNLP.predict(new_X_test)\n",
    "x  = new_y_pred.round()\n",
    "\n",
    "if x[0][0] == 1:\n",
    "    print(\"The sentiment of the review is Negative\")\n",
    "elif x[0][2] == 1:\n",
    "    print(\"The sentiment of the review is Positive\")\n",
    "else:\n",
    "    print(\"The sentiment of the review is Neutral\")"
   ]
  },
  {
   "cell_type": "markdown",
   "metadata": {},
   "source": [
    "The review was correctly predicted as neutral by ANN model."
   ]
  },
  {
   "cell_type": "markdown",
   "metadata": {},
   "source": [
    "### Negative review"
   ]
  },
  {
   "cell_type": "markdown",
   "metadata": {},
   "source": [
    "Use our model to predict if the following review:\n",
    "\n",
    "\"I never fly in american airlines since its not good\"\n",
    "\n",
    "is positive or negative or neutral."
   ]
  },
  {
   "cell_type": "code",
   "execution_count": 219,
   "metadata": {},
   "outputs": [
    {
     "name": "stdout",
     "output_type": "stream",
     "text": [
      "The sentiment of the review is Negative\n"
     ]
    }
   ],
   "source": [
    "new_review = 'I never fly in american airlines since its not good'\n",
    "new_review = re.sub('[^a-zA-Z]', ' ', new_review)\n",
    "new_review = new_review.lower()\n",
    "new_review = new_review.split()\n",
    "lemm = WordNetLemmatizer()\n",
    "all_stopwords = stopwords.words('english')\n",
    "all_stopwords.remove('not')\n",
    "new_review = [lemm.lemmatize(word) for word in new_review if not word in set(all_stopwords)]\n",
    "new_review = ' '.join(new_review)\n",
    "new_corpus = [new_review]\n",
    "new_X_test = cv.transform(new_corpus).toarray()\n",
    "new_y_pred = annNLP.predict(new_X_test)\n",
    "x  = new_y_pred.round()\n",
    "\n",
    "if x[0][0] == 1:\n",
    "    print(\"The sentiment of the review is Negative\")\n",
    "elif x[0][2] == 1:\n",
    "    print(\"The sentiment of the review is Positive\")\n",
    "else:\n",
    "    print(\"The sentiment of the review is Neutral\")"
   ]
  },
  {
   "cell_type": "markdown",
   "metadata": {},
   "source": [
    "The review was correctly predicted as negative by ANN model."
   ]
  },
  {
   "cell_type": "markdown",
   "metadata": {},
   "source": [
    "## Conclusion"
   ]
  },
  {
   "cell_type": "markdown",
   "metadata": {},
   "source": [
    "### Overall the ANN model gives a better prediction on the sentiment rather than the naive bayes model"
   ]
  }
 ],
 "metadata": {
  "colab": {
   "collapsed_sections": [],
   "name": "BONUS_natural_language_processing.ipynb",
   "provenance": [],
   "toc_visible": true
  },
  "kernelspec": {
   "display_name": "Python 3",
   "language": "python",
   "name": "python3"
  },
  "language_info": {
   "codemirror_mode": {
    "name": "ipython",
    "version": 3
   },
   "file_extension": ".py",
   "mimetype": "text/x-python",
   "name": "python",
   "nbconvert_exporter": "python",
   "pygments_lexer": "ipython3",
   "version": "3.7.4"
  }
 },
 "nbformat": 4,
 "nbformat_minor": 1
}
